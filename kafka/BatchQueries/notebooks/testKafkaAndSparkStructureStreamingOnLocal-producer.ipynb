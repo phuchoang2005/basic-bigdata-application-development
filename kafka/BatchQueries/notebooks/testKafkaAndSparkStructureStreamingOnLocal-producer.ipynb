{
 "cells": [
  {
   "cell_type": "code",
   "execution_count": 2,
   "id": "1ecad609",
   "metadata": {},
   "outputs": [
    {
     "name": "stdout",
     "output_type": "stream",
     "text": [
      "{'number': 0}sent\n",
      "{'number': 1}sent\n",
      "{'number': 2}sent\n",
      "{'number': 3}sent\n",
      "{'number': 4}sent\n",
      "{'number': 5}sent\n",
      "{'number': 6}sent\n",
      "{'number': 7}sent\n",
      "{'number': 8}sent\n",
      "{'number': 9}sent\n",
      "{'number': 10}sent\n",
      "{'number': 11}sent\n",
      "{'number': 12}sent\n",
      "{'number': 13}sent\n",
      "{'number': 14}sent\n",
      "{'number': 15}sent\n",
      "{'number': 16}sent\n",
      "{'number': 17}sent\n",
      "{'number': 18}sent\n",
      "{'number': 19}sent\n",
      "{'number': 20}sent\n",
      "{'number': 21}sent\n",
      "{'number': 22}sent\n",
      "{'number': 23}sent\n",
      "{'number': 24}sent\n",
      "{'number': 25}sent\n",
      "{'number': 26}sent\n",
      "{'number': 27}sent\n",
      "{'number': 28}sent\n",
      "{'number': 29}sent\n",
      "{'number': 30}sent\n",
      "{'number': 31}sent\n"
     ]
    },
    {
     "ename": "KeyboardInterrupt",
     "evalue": "",
     "output_type": "error",
     "traceback": [
      "\u001b[0;31m---------------------------------------------------------------------------\u001b[0m",
      "\u001b[0;31mKeyboardInterrupt\u001b[0m                         Traceback (most recent call last)",
      "Cell \u001b[0;32mIn[2], line 13\u001b[0m\n\u001b[1;32m     11\u001b[0m     producer\u001b[38;5;241m.\u001b[39msend(topic_name, value\u001b[38;5;241m=\u001b[39mdata)\n\u001b[1;32m     12\u001b[0m     \u001b[38;5;28mprint\u001b[39m(\u001b[38;5;28mstr\u001b[39m(data) \u001b[38;5;241m+\u001b[39m \u001b[38;5;124m\"\u001b[39m\u001b[38;5;124msent\u001b[39m\u001b[38;5;124m\"\u001b[39m)\n\u001b[0;32m---> 13\u001b[0m     sleep(\u001b[38;5;241m5\u001b[39m)\n\u001b[1;32m     15\u001b[0m producer\u001b[38;5;241m.\u001b[39mflush()\n",
      "\u001b[0;31mKeyboardInterrupt\u001b[0m: "
     ]
    }
   ],
   "source": [
    "from kafka import KafkaProducer\n",
    "from json import dumps\n",
    "from time import sleep\n",
    "topic_name = \"LeNguyenHoangPhuc_RandomNumber\"\n",
    "kafka_server = \"kafka:9092\"\n",
    "\n",
    "producer = KafkaProducer(bootstrap_servers = kafka_server, value_serializer = lambda x:dumps(x).encode(\"utf-8\"))\n",
    "\n",
    "for e in range(1000):\n",
    "    data = {'number' : e}\n",
    "    producer.send(topic_name, value=data)\n",
    "    print(str(data) + \"sent\")\n",
    "    sleep(5)\n",
    "\n",
    "producer.flush()"
   ]
  },
  {
   "cell_type": "code",
   "execution_count": null,
   "id": "70471be4-2ef3-4d37-9b8a-0aa0f23f20ab",
   "metadata": {},
   "outputs": [],
   "source": []
  },
  {
   "cell_type": "code",
   "execution_count": null,
   "id": "03de12b1",
   "metadata": {},
   "outputs": [],
   "source": []
  }
 ],
 "metadata": {
  "kernelspec": {
   "display_name": "Python 3 (ipykernel)",
   "language": "python",
   "name": "python3"
  },
  "language_info": {
   "codemirror_mode": {
    "name": "ipython",
    "version": 3
   },
   "file_extension": ".py",
   "mimetype": "text/x-python",
   "name": "python",
   "nbconvert_exporter": "python",
   "pygments_lexer": "ipython3",
   "version": "3.11.6"
  }
 },
 "nbformat": 4,
 "nbformat_minor": 5
}
