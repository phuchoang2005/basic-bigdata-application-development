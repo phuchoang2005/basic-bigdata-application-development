{
 "cells": [
  {
   "cell_type": "code",
   "execution_count": 16,
   "id": "e61aa598",
   "metadata": {},
   "outputs": [
    {
     "name": "stdout",
     "output_type": "stream",
     "text": [
      "ConsumerRecord(topic='items_LeNguyenHoangPhuc', partition=0, leader_epoch=0, offset=65, timestamp=1760718108043, timestamp_type=0, key=None, value=b'Hello Kafka Python!!!', headers=[], checksum=None, serialized_key_size=-1, serialized_value_size=21, serialized_header_size=-1)\n",
      "ConsumerRecord(topic='items_LeNguyenHoangPhuc', partition=0, leader_epoch=0, offset=66, timestamp=1760718111044, timestamp_type=0, key=None, value=b'Hello Kafka Python!!!', headers=[], checksum=None, serialized_key_size=-1, serialized_value_size=21, serialized_header_size=-1)\n",
      "ConsumerRecord(topic='items_LeNguyenHoangPhuc', partition=0, leader_epoch=0, offset=67, timestamp=1760718114048, timestamp_type=0, key=None, value=b'Hello Kafka Python!!!', headers=[], checksum=None, serialized_key_size=-1, serialized_value_size=21, serialized_header_size=-1)\n",
      "break\n",
      "Live ended...\n"
     ]
    }
   ],
   "source": [
    "from kafka import KafkaConsumer\n",
    "topic_name = \"items_LeNguyenHoangPhuc\"\n",
    "kafka_server=\"kafka:9092\"\n",
    "consumer = KafkaConsumer(topic_name, bootstrap_servers=kafka_server)\n",
    "try:\n",
    "    for message in consumer:\n",
    "        print(message)\n",
    "except KeyboardInterrupt:\n",
    "    print(\"break\")\n",
    "finally:\n",
    "    consumer.close()\n",
    "print(\"Live ended...\")"
   ]
  },
  {
   "cell_type": "code",
   "execution_count": null,
   "id": "96a79685",
   "metadata": {},
   "outputs": [],
   "source": []
  }
 ],
 "metadata": {
  "kernelspec": {
   "display_name": "base",
   "language": "python",
   "name": "python3"
  },
  "language_info": {
   "codemirror_mode": {
    "name": "ipython",
    "version": 3
   },
   "file_extension": ".py",
   "mimetype": "text/x-python",
   "name": "python",
   "nbconvert_exporter": "python",
   "pygments_lexer": "ipython3",
   "version": "3.11.6"
  }
 },
 "nbformat": 4,
 "nbformat_minor": 5
}
