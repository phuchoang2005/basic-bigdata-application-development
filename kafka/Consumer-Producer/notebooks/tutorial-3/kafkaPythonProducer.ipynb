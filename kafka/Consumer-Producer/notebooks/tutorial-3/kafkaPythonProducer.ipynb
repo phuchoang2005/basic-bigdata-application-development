{
 "cells": [
  {
   "cell_type": "code",
   "execution_count": 15,
   "id": "59b77226",
   "metadata": {},
   "outputs": [
    {
     "name": "stdout",
     "output_type": "stream",
     "text": [
      "break\n"
     ]
    }
   ],
   "source": [
    "from kafka import KafkaProducer\n",
    "from time import sleep\n",
    "topic_name = \"items_LeNguyenHoangPhuc\"\n",
    "kafka_server = \"kafka:9092\"\n",
    "producer = KafkaProducer(bootstrap_servers = kafka_server)\n",
    "try:\n",
    "    for i in range(100):\n",
    "        producer.send(topic_name, b'Hello Kafka Python!!!')\n",
    "        sleep(3)\n",
    "except:\n",
    "    print(\"break\")\n",
    "finally:\n",
    "    producer.flush()"
   ]
  },
  {
   "cell_type": "code",
   "execution_count": null,
   "id": "5313afac",
   "metadata": {},
   "outputs": [],
   "source": []
  },
  {
   "cell_type": "code",
   "execution_count": null,
   "id": "4713b186",
   "metadata": {},
   "outputs": [],
   "source": []
  }
 ],
 "metadata": {
  "kernelspec": {
   "display_name": "base",
   "language": "python",
   "name": "python3"
  },
  "language_info": {
   "codemirror_mode": {
    "name": "ipython",
    "version": 3
   },
   "file_extension": ".py",
   "mimetype": "text/x-python",
   "name": "python",
   "nbconvert_exporter": "python",
   "pygments_lexer": "ipython3",
   "version": "3.11.6"
  }
 },
 "nbformat": 4,
 "nbformat_minor": 5
}
