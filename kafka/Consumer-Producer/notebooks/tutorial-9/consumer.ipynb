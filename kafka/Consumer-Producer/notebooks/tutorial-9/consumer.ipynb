{
 "cells": [
  {
   "cell_type": "code",
   "execution_count": 81,
   "id": "68cdc7e5-b26e-4c43-b432-456a4d75f59f",
   "metadata": {},
   "outputs": [],
   "source": [
    "import datetime\n",
    "from flask import Flask, Response\n",
    "from kafka import KafkaConsumer\n",
    "from threading import Thread"
   ]
  },
  {
   "cell_type": "code",
   "execution_count": 82,
   "id": "92824a4a-5302-40de-a641-275681d6e044",
   "metadata": {},
   "outputs": [],
   "source": [
    "topic=\"HoangPhuc-distributed-video1\"\n",
    "kafka_server=\"kafka:9092\""
   ]
  },
  {
   "cell_type": "code",
   "execution_count": 83,
   "id": "d1ed7498-08eb-492a-a73c-9eb0656dca8e",
   "metadata": {},
   "outputs": [],
   "source": [
    "consumer = KafkaConsumer(\n",
    "    topic, \n",
    "    bootstrap_servers=kafka_server\n",
    ")\n",
    "\n",
    "# Set the consumer in a Flask App\n",
    "app = Flask(__name__)"
   ]
  },
  {
   "cell_type": "code",
   "execution_count": 84,
   "id": "cf4d4f43-3512-4aa8-90a4-3ec831da3703",
   "metadata": {},
   "outputs": [],
   "source": [
    "def get_video_stream():\n",
    "    \"\"\"\n",
    "    Here is where we recieve streamed images from the Kafka Server and convert \n",
    "    them to a Flask-readable format.\n",
    "    \"\"\"\n",
    "    for msg in consumer:\n",
    "        yield (b'--frame\\r\\n'\n",
    "               b'Content-Type: image/jpg\\r\\n\\r\\n' + msg.value + b'\\r\\n\\r\\n')"
   ]
  },
  {
   "cell_type": "code",
   "execution_count": 85,
   "id": "5830586f-d4d1-49cd-91e0-2173720cdb30",
   "metadata": {},
   "outputs": [
    {
     "name": "stdout",
     "output_type": "stream",
     "text": [
      " * Serving Flask app '__main__'\n",
      " * Debug mode: off\n"
     ]
    },
    {
     "name": "stderr",
     "output_type": "stream",
     "text": [
      "WARNING: This is a development server. Do not use it in a production deployment. Use a production WSGI server instead.\n",
      " * Running on all addresses (0.0.0.0)\n",
      " * Running on http://127.0.0.1:5002\n",
      " * Running on http://172.19.0.6:5002\n",
      "Press CTRL+C to quit\n"
     ]
    }
   ],
   "source": [
    "@app.route('/video', methods=['GET'])\n",
    "def video():\n",
    "    \"\"\"\n",
    "    This is the heart of our video display. Notice we set the mimetype to \n",
    "    multipart/x-mixed-replace. This tells Flask to replace any old images with \n",
    "    new values streaming through the pipeline.\n",
    "    \"\"\"\n",
    "    return Response(\n",
    "        get_video_stream(), \n",
    "        mimetype='multipart/x-mixed-replace; boundary=frame')\n",
    "def run_app():\n",
    "    app.run(host='0.0.0.0', port=5002, debug=False, use_reloader=False)\n",
    "\n",
    "# chạy server trong thread riêng\n",
    "thrd = Thread(target=run_app)\n",
    "thrd.start()\n"
   ]
  },
  {
   "cell_type": "code",
   "execution_count": null,
   "id": "8f67373d-d1cd-4802-be01-f28baa863d02",
   "metadata": {},
   "outputs": [],
   "source": []
  }
 ],
 "metadata": {
  "kernelspec": {
   "display_name": "Python 3 (ipykernel)",
   "language": "python",
   "name": "python3"
  },
  "language_info": {
   "codemirror_mode": {
    "name": "ipython",
    "version": 3
   },
   "file_extension": ".py",
   "mimetype": "text/x-python",
   "name": "python",
   "nbconvert_exporter": "python",
   "pygments_lexer": "ipython3",
   "version": "3.11.6"
  }
 },
 "nbformat": 4,
 "nbformat_minor": 5
}
