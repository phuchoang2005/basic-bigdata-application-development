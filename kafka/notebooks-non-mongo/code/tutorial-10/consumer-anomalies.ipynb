{
 "cells": [
  {
   "cell_type": "code",
   "execution_count": 1,
   "id": "b133a505",
   "metadata": {},
   "outputs": [
    {
     "name": "stdout",
     "output_type": "stream",
     "text": [
      "{\"id\": 374, \"data\": [[0.304, 2.887]], \"current_time\": \"2025-10-27T08:28:58.545796\", \"score\": [-0.721]}\n",
      "{\"id\": 375, \"data\": [[-1.829, 3.2]], \"current_time\": \"2025-10-27T08:29:00.551147\", \"score\": [-0.741]}\n",
      "{\"id\": 388, \"data\": [[-0.099, 0.631]], \"current_time\": \"2025-10-27T08:29:26.887900\", \"score\": [-0.726]}\n",
      "{\"id\": 397, \"data\": [[0.333, 1.154]], \"current_time\": \"2025-10-27T08:29:45.166011\", \"score\": [-0.718]}\n",
      "{\"id\": 12, \"data\": [[2.324, -2.949]], \"current_time\": \"2025-10-27T08:32:38.553343\", \"score\": [-0.716]}\n",
      "{\"id\": 23, \"data\": [[1.899, 3.79]], \"current_time\": \"2025-10-27T08:33:00.643761\", \"score\": [-0.662]}\n",
      "{\"id\": 29, \"data\": [[-2.921, -3.409]], \"current_time\": \"2025-10-27T08:33:12.695666\", \"score\": [-0.733]}\n",
      "{\"id\": 30, \"data\": [[-2.699, 0.714]], \"current_time\": \"2025-10-27T08:33:14.706296\", \"score\": [-0.712]}\n",
      "{\"id\": 36, \"data\": [[-3.874, 1.363]], \"current_time\": \"2025-10-27T08:33:26.960711\", \"score\": [-0.73]}\n",
      "{\"id\": 12, \"data\": [[-1.913, 2.532]], \"current_time\": \"2025-10-27T09:05:05.689409\", \"score\": [-0.708]}\n",
      "{\"id\": 13, \"data\": [[0.1, -0.168]], \"current_time\": \"2025-10-27T09:05:07.722016\", \"score\": [-0.739]}\n",
      "{\"id\": 15, \"data\": [[0.384, -2.374]], \"current_time\": \"2025-10-27T09:05:11.870614\", \"score\": [-0.675]}\n",
      "{\"id\": 22, \"data\": [[0.9, -1.499]], \"current_time\": \"2025-10-27T09:05:26.230357\", \"score\": [-0.709]}\n",
      "{\"id\": 23, \"data\": [[0.711, -3.137]], \"current_time\": \"2025-10-27T09:05:28.245095\", \"score\": [-0.725]}\n",
      "{\"id\": 28, \"data\": [[-3.369, 3.56]], \"current_time\": \"2025-10-27T09:05:38.299162\", \"score\": [-0.763]}\n",
      "{\"id\": 36, \"data\": [[2.069, -2.324]], \"current_time\": \"2025-10-27T09:05:54.381724\", \"score\": [-0.667]}\n",
      "Break\n"
     ]
    }
   ],
   "source": [
    "from kafka import KafkaConsumer\n",
    "\n",
    "consumer = KafkaConsumer(\n",
    "    \"anomalies\",\n",
    "    bootstrap_servers=[\"kafka:9092\"],\n",
    "    auto_offset_reset=\"earliest\",\n",
    "    group_id=\"my-group\"\n",
    ")\n",
    "try:    \n",
    "    for msg in consumer:\n",
    "        print(msg.value.decode(\"utf-8\"))\n",
    "except KeyboardInterrupt:\n",
    "    print(\"Break\")\n",
    "finally:\n",
    "    consumer.close()"
   ]
  },
  {
   "cell_type": "code",
   "execution_count": null,
   "id": "f6640c32",
   "metadata": {},
   "outputs": [],
   "source": []
  }
 ],
 "metadata": {
  "kernelspec": {
   "display_name": "Python 3",
   "language": "python",
   "name": "python3"
  },
  "language_info": {
   "codemirror_mode": {
    "name": "ipython",
    "version": 3
   },
   "file_extension": ".py",
   "mimetype": "text/x-python",
   "name": "python",
   "nbconvert_exporter": "python",
   "pygments_lexer": "ipython3",
   "version": "3.10.12"
  }
 },
 "nbformat": 4,
 "nbformat_minor": 5
}
