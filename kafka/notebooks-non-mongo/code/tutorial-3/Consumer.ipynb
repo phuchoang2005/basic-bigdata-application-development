{
 "cells": [
  {
   "cell_type": "code",
   "execution_count": 1,
   "id": "e61aa598",
   "metadata": {},
   "outputs": [
    {
     "name": "stdout",
     "output_type": "stream",
     "text": [
      "ConsumerRecord(topic='items_LeNguyenHoangPhuc', partition=0, offset=4, timestamp=1761447313956, timestamp_type=0, key=None, value=b'Hello Kafka Python!!!', headers=[], checksum=None, serialized_key_size=-1, serialized_value_size=21, serialized_header_size=-1)\n",
      "ConsumerRecord(topic='items_LeNguyenHoangPhuc', partition=0, offset=5, timestamp=1761447316960, timestamp_type=0, key=None, value=b'Hello Kafka Python!!!', headers=[], checksum=None, serialized_key_size=-1, serialized_value_size=21, serialized_header_size=-1)\n",
      "ConsumerRecord(topic='items_LeNguyenHoangPhuc', partition=0, offset=6, timestamp=1761447319965, timestamp_type=0, key=None, value=b'Hello Kafka Python!!!', headers=[], checksum=None, serialized_key_size=-1, serialized_value_size=21, serialized_header_size=-1)\n",
      "break\n",
      "Live ended...\n"
     ]
    }
   ],
   "source": [
    "from kafka import KafkaConsumer\n",
    "topic_name = \"items_LeNguyenHoangPhuc\"\n",
    "kafka_server=\"kafka:9092\"\n",
    "consumer = KafkaConsumer(topic_name, bootstrap_servers=kafka_server)\n",
    "try:\n",
    "    for message in consumer:\n",
    "        print(message)\n",
    "except KeyboardInterrupt:\n",
    "    print(\"break\")\n",
    "finally:\n",
    "    consumer.close()\n",
    "print(\"Live ended...\")"
   ]
  },
  {
   "cell_type": "code",
   "execution_count": null,
   "id": "96a79685",
   "metadata": {},
   "outputs": [],
   "source": []
  }
 ],
 "metadata": {
  "kernelspec": {
   "display_name": "Python 3 (ipykernel)",
   "language": "python",
   "name": "python3"
  },
  "language_info": {
   "codemirror_mode": {
    "name": "ipython",
    "version": 3
   },
   "file_extension": ".py",
   "mimetype": "text/x-python",
   "name": "python",
   "nbconvert_exporter": "python",
   "pygments_lexer": "ipython3",
   "version": "3.10.12"
  }
 },
 "nbformat": 4,
 "nbformat_minor": 5
}
