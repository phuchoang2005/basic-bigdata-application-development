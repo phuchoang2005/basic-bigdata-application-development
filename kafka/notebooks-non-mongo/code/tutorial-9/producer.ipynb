{
 "cells": [
  {
   "cell_type": "code",
   "execution_count": 1,
   "id": "820596cd-149c-405a-bf2a-2ca196368e32",
   "metadata": {},
   "outputs": [],
   "source": [
    "import time\n",
    "import cv2\n",
    "from kafka import KafkaProducer"
   ]
  },
  {
   "cell_type": "code",
   "execution_count": 2,
   "id": "f7e1047b-50b0-4241-8642-556052420473",
   "metadata": {},
   "outputs": [],
   "source": [
    "topic = \"HoangPhuc-distributed-video1\"\n",
    "kafka_server = \"kafka:9092\""
   ]
  },
  {
   "cell_type": "code",
   "execution_count": 3,
   "id": "f1152f64-d677-43c2-b185-5d9a8c37eede",
   "metadata": {},
   "outputs": [],
   "source": [
    "\n",
    "def publish_video(video_file):\n",
    "    \"\"\"\n",
    "    Publish given video file to a specified Kafka topic. \n",
    "    Kafka Server is expected to be running on the localhost. Not partitioned.\n",
    "    \n",
    "    :param video_file: path to video file <string>\n",
    "    \"\"\"\n",
    "    # Start up producer\n",
    "    producer = KafkaProducer(bootstrap_servers=kafka_server)\n",
    "\n",
    "    # Open file\n",
    "    video = cv2.VideoCapture(video_file)\n",
    "    \n",
    "    print('publishing video...')\n",
    "\n",
    "    while(video.isOpened()):\n",
    "        success, frame = video.read()\n",
    "\n",
    "        # Ensure file was read successfully\n",
    "        if not success:\n",
    "            print(\"bad read!\")\n",
    "            break\n",
    "        \n",
    "        # Convert image to png\n",
    "        ret, buffer = cv2.imencode('.jpg', frame)\n",
    "\n",
    "        # Convert to bytes and send to kafka\n",
    "        producer.send(topic, buffer.tobytes())\n",
    "\n",
    "        time.sleep(0.2)\n",
    "    video.release()\n",
    "    print('publish complete')"
   ]
  },
  {
   "cell_type": "code",
   "execution_count": 5,
   "id": "f582d52b-5206-44f8-add6-c2b53767f7a8",
   "metadata": {},
   "outputs": [
    {
     "name": "stdout",
     "output_type": "stream",
     "text": [
      "publishing video...\n",
      "bad read!\n",
      "publish complete\n"
     ]
    }
   ],
   "source": [
    "video_path=\"video.MOV\"\n",
    "publish_video(video_path)"
   ]
  },
  {
   "cell_type": "code",
   "execution_count": 2,
   "id": "b4271acd-6ece-43df-8d26-d14d9b31e4af",
   "metadata": {},
   "outputs": [
    {
     "name": "stdout",
     "output_type": "stream",
     "text": [
      "publishing video...\n",
      "Break\n",
      "\n",
      "Live ended...\n",
      "^C\n",
      "Exception ignored in: <function KafkaProducer.__del__ at 0x7f462d927be0>\n",
      "Traceback (most recent call last):\n",
      "  File \"/usr/local/lib/python3.10/dist-packages/kafka/producer/kafka.py\", line 460, in __del__\n",
      "    self.close()\n",
      "  File \"/usr/local/lib/python3.10/dist-packages/kafka/producer/kafka.py\", line 496, in close\n",
      "    self._sender.join(timeout)\n",
      "  File \"/usr/lib/python3.10/threading.py\", line 1100, in join\n",
      "    self._wait_for_tstate_lock(timeout=max(timeout, 0))\n",
      "  File \"/usr/lib/python3.10/threading.py\", line 1116, in _wait_for_tstate_lock\n",
      "    if lock.acquire(block, timeout):\n",
      "KeyboardInterrupt: \n"
     ]
    }
   ],
   "source": [
    "!python3 producer.py"
   ]
  },
  {
   "cell_type": "code",
   "execution_count": null,
   "id": "5f84a9cc",
   "metadata": {},
   "outputs": [],
   "source": []
  }
 ],
 "metadata": {
  "kernelspec": {
   "display_name": "Python 3",
   "language": "python",
   "name": "python3"
  },
  "language_info": {
   "codemirror_mode": {
    "name": "ipython",
    "version": 3
   },
   "file_extension": ".py",
   "mimetype": "text/x-python",
   "name": "python",
   "nbconvert_exporter": "python",
   "pygments_lexer": "ipython3",
   "version": "3.10.12"
  }
 },
 "nbformat": 4,
 "nbformat_minor": 5
}
