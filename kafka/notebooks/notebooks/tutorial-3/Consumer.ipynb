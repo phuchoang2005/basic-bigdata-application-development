{
 "cells": [
  {
   "cell_type": "code",
   "execution_count": 1,
   "id": "e61aa598",
   "metadata": {},
   "outputs": [
    {
     "name": "stdout",
     "output_type": "stream",
     "text": [
      "ConsumerRecord(topic='items_LeNguyenHoangPhuc', partition=0, leader_epoch=0, offset=68, timestamp=1760721809232, timestamp_type=0, key=None, value=b'Hello Kafka Python!!!', headers=[], checksum=None, serialized_key_size=-1, serialized_value_size=21, serialized_header_size=-1)\n",
      "ConsumerRecord(topic='items_LeNguyenHoangPhuc', partition=0, leader_epoch=0, offset=69, timestamp=1760721812233, timestamp_type=0, key=None, value=b'Hello Kafka Python!!!', headers=[], checksum=None, serialized_key_size=-1, serialized_value_size=21, serialized_header_size=-1)\n",
      "ConsumerRecord(topic='items_LeNguyenHoangPhuc', partition=0, leader_epoch=0, offset=70, timestamp=1760721815436, timestamp_type=0, key=None, value=b'Hello Kafka Python!!!', headers=[], checksum=None, serialized_key_size=-1, serialized_value_size=21, serialized_header_size=-1)\n",
      "ConsumerRecord(topic='items_LeNguyenHoangPhuc', partition=0, leader_epoch=0, offset=71, timestamp=1760721818437, timestamp_type=0, key=None, value=b'Hello Kafka Python!!!', headers=[], checksum=None, serialized_key_size=-1, serialized_value_size=21, serialized_header_size=-1)\n",
      "ConsumerRecord(topic='items_LeNguyenHoangPhuc', partition=0, leader_epoch=0, offset=72, timestamp=1760721821439, timestamp_type=0, key=None, value=b'Hello Kafka Python!!!', headers=[], checksum=None, serialized_key_size=-1, serialized_value_size=21, serialized_header_size=-1)\n",
      "ConsumerRecord(topic='items_LeNguyenHoangPhuc', partition=0, leader_epoch=0, offset=73, timestamp=1760721824439, timestamp_type=0, key=None, value=b'Hello Kafka Python!!!', headers=[], checksum=None, serialized_key_size=-1, serialized_value_size=21, serialized_header_size=-1)\n",
      "ConsumerRecord(topic='items_LeNguyenHoangPhuc', partition=0, leader_epoch=0, offset=74, timestamp=1760721827440, timestamp_type=0, key=None, value=b'Hello Kafka Python!!!', headers=[], checksum=None, serialized_key_size=-1, serialized_value_size=21, serialized_header_size=-1)\n",
      "ConsumerRecord(topic='items_LeNguyenHoangPhuc', partition=0, leader_epoch=0, offset=75, timestamp=1760721830443, timestamp_type=0, key=None, value=b'Hello Kafka Python!!!', headers=[], checksum=None, serialized_key_size=-1, serialized_value_size=21, serialized_header_size=-1)\n",
      "ConsumerRecord(topic='items_LeNguyenHoangPhuc', partition=0, leader_epoch=0, offset=76, timestamp=1760721833444, timestamp_type=0, key=None, value=b'Hello Kafka Python!!!', headers=[], checksum=None, serialized_key_size=-1, serialized_value_size=21, serialized_header_size=-1)\n",
      "ConsumerRecord(topic='items_LeNguyenHoangPhuc', partition=0, leader_epoch=0, offset=77, timestamp=1760721836446, timestamp_type=0, key=None, value=b'Hello Kafka Python!!!', headers=[], checksum=None, serialized_key_size=-1, serialized_value_size=21, serialized_header_size=-1)\n",
      "ConsumerRecord(topic='items_LeNguyenHoangPhuc', partition=0, leader_epoch=0, offset=78, timestamp=1760721839449, timestamp_type=0, key=None, value=b'Hello Kafka Python!!!', headers=[], checksum=None, serialized_key_size=-1, serialized_value_size=21, serialized_header_size=-1)\n",
      "ConsumerRecord(topic='items_LeNguyenHoangPhuc', partition=0, leader_epoch=0, offset=79, timestamp=1760721842450, timestamp_type=0, key=None, value=b'Hello Kafka Python!!!', headers=[], checksum=None, serialized_key_size=-1, serialized_value_size=21, serialized_header_size=-1)\n",
      "ConsumerRecord(topic='items_LeNguyenHoangPhuc', partition=0, leader_epoch=0, offset=80, timestamp=1760721845451, timestamp_type=0, key=None, value=b'Hello Kafka Python!!!', headers=[], checksum=None, serialized_key_size=-1, serialized_value_size=21, serialized_header_size=-1)\n",
      "ConsumerRecord(topic='items_LeNguyenHoangPhuc', partition=0, leader_epoch=0, offset=81, timestamp=1760721848452, timestamp_type=0, key=None, value=b'Hello Kafka Python!!!', headers=[], checksum=None, serialized_key_size=-1, serialized_value_size=21, serialized_header_size=-1)\n",
      "ConsumerRecord(topic='items_LeNguyenHoangPhuc', partition=0, leader_epoch=0, offset=82, timestamp=1760721851454, timestamp_type=0, key=None, value=b'Hello Kafka Python!!!', headers=[], checksum=None, serialized_key_size=-1, serialized_value_size=21, serialized_header_size=-1)\n",
      "ConsumerRecord(topic='items_LeNguyenHoangPhuc', partition=0, leader_epoch=0, offset=83, timestamp=1760721854456, timestamp_type=0, key=None, value=b'Hello Kafka Python!!!', headers=[], checksum=None, serialized_key_size=-1, serialized_value_size=21, serialized_header_size=-1)\n",
      "ConsumerRecord(topic='items_LeNguyenHoangPhuc', partition=0, leader_epoch=0, offset=84, timestamp=1760721857457, timestamp_type=0, key=None, value=b'Hello Kafka Python!!!', headers=[], checksum=None, serialized_key_size=-1, serialized_value_size=21, serialized_header_size=-1)\n",
      "ConsumerRecord(topic='items_LeNguyenHoangPhuc', partition=0, leader_epoch=0, offset=85, timestamp=1760721860459, timestamp_type=0, key=None, value=b'Hello Kafka Python!!!', headers=[], checksum=None, serialized_key_size=-1, serialized_value_size=21, serialized_header_size=-1)\n",
      "ConsumerRecord(topic='items_LeNguyenHoangPhuc', partition=0, leader_epoch=0, offset=86, timestamp=1760721863465, timestamp_type=0, key=None, value=b'Hello Kafka Python!!!', headers=[], checksum=None, serialized_key_size=-1, serialized_value_size=21, serialized_header_size=-1)\n",
      "break\n",
      "Live ended...\n"
     ]
    }
   ],
   "source": [
    "from kafka import KafkaConsumer\n",
    "topic_name = \"items_LeNguyenHoangPhuc\"\n",
    "kafka_server=\"kafka:9092\"\n",
    "consumer = KafkaConsumer(topic_name, bootstrap_servers=kafka_server)\n",
    "try:\n",
    "    for message in consumer:\n",
    "        print(message)\n",
    "except KeyboardInterrupt:\n",
    "    print(\"break\")\n",
    "finally:\n",
    "    consumer.close()\n",
    "print(\"Live ended...\")"
   ]
  },
  {
   "cell_type": "code",
   "execution_count": null,
   "id": "96a79685",
   "metadata": {},
   "outputs": [],
   "source": []
  }
 ],
 "metadata": {
  "kernelspec": {
   "display_name": "base",
   "language": "python",
   "name": "python3"
  },
  "language_info": {
   "codemirror_mode": {
    "name": "ipython",
    "version": 3
   },
   "file_extension": ".py",
   "mimetype": "text/x-python",
   "name": "python",
   "nbconvert_exporter": "python",
   "pygments_lexer": "ipython3",
   "version": "3.11.6"
  }
 },
 "nbformat": 4,
 "nbformat_minor": 5
}
