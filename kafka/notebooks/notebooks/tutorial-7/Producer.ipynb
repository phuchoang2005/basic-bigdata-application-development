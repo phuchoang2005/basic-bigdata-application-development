{
 "cells": [
  {
   "cell_type": "code",
   "execution_count": 1,
   "id": "36fc605a",
   "metadata": {},
   "outputs": [
    {
     "name": "stdout",
     "output_type": "stream",
     "text": [
      "{'number': 0}\n",
      "{'number': 1}\n",
      "{'number': 2}\n",
      "{'number': 3}\n",
      "{'number': 4}\n",
      "{'number': 5}\n",
      "{'number': 6}\n",
      "{'number': 7}\n",
      "{'number': 8}\n",
      "{'number': 9}\n",
      "{'number': 10}\n",
      "{'number': 11}\n",
      "{'number': 12}\n",
      "{'number': 13}\n",
      "{'number': 14}\n",
      "{'number': 15}\n",
      "{'number': 16}\n",
      "{'number': 17}\n",
      "{'number': 18}\n",
      "{'number': 19}\n",
      "{'number': 20}\n",
      "{'number': 21}\n",
      "{'number': 22}\n",
      "{'number': 23}\n",
      "{'number': 24}\n",
      "{'number': 25}\n",
      "{'number': 26}\n",
      "{'number': 27}\n",
      "{'number': 28}\n",
      "{'number': 29}\n",
      "{'number': 30}\n",
      "{'number': 31}\n",
      "{'number': 32}\n",
      "{'number': 33}\n",
      "{'number': 34}\n",
      "{'number': 35}\n",
      "{'number': 36}\n",
      "{'number': 37}\n",
      "{'number': 38}\n",
      "{'number': 39}\n",
      "{'number': 40}\n",
      "{'number': 41}\n",
      "{'number': 42}\n",
      "{'number': 43}\n",
      "{'number': 44}\n",
      "{'number': 45}\n",
      "{'number': 46}\n",
      "break\n",
      "Live ended...\n"
     ]
    }
   ],
   "source": [
    "from time import sleep\n",
    "from json import dumps\n",
    "from kafka import KafkaProducer\n",
    "\n",
    "topic_name = \"numtest_LeNguyenHoangPhuc\"\n",
    "kafka_server = \"kafka:9092\"\n",
    "\n",
    "producer = KafkaProducer(bootstrap_servers = kafka_server, value_serializer = lambda x:dumps(x).encode('utf-8'))\n",
    "\n",
    "try:\n",
    "    for e in range(1000):\n",
    "        data = {'number':e}\n",
    "        print(data)\n",
    "        producer.send(topic_name, value=data)\n",
    "        sleep(5)\n",
    "except KeyboardInterrupt:\n",
    "        print(\"break\")\n",
    "finally:\n",
    "    producer.flush()\n",
    "print(\"Live ended...\")\n"
   ]
  },
  {
   "cell_type": "code",
   "execution_count": null,
   "id": "0629a3d0",
   "metadata": {},
   "outputs": [],
   "source": []
  }
 ],
 "metadata": {
  "kernelspec": {
   "display_name": "base",
   "language": "python",
   "name": "python3"
  },
  "language_info": {
   "codemirror_mode": {
    "name": "ipython",
    "version": 3
   },
   "file_extension": ".py",
   "mimetype": "text/x-python",
   "name": "python",
   "nbconvert_exporter": "python",
   "pygments_lexer": "ipython3",
   "version": "3.11.6"
  }
 },
 "nbformat": 4,
 "nbformat_minor": 5
}
