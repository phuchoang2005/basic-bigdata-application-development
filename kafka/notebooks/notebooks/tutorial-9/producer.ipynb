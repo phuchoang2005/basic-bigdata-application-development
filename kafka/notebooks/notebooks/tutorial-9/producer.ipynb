{
 "cells": [
  {
   "cell_type": "code",
   "execution_count": 18,
   "id": "820596cd-149c-405a-bf2a-2ca196368e32",
   "metadata": {},
   "outputs": [],
   "source": [
    "import time\n",
    "import cv2\n",
    "from kafka import KafkaProducer"
   ]
  },
  {
   "cell_type": "code",
   "execution_count": 19,
   "id": "f7e1047b-50b0-4241-8642-556052420473",
   "metadata": {},
   "outputs": [],
   "source": [
    "topic = \"HoangPhuc-distributed-video1\"\n",
    "kafka_server = \"kafka:9092\""
   ]
  },
  {
   "cell_type": "code",
   "execution_count": 20,
   "id": "f1152f64-d677-43c2-b185-5d9a8c37eede",
   "metadata": {},
   "outputs": [],
   "source": [
    "\n",
    "def publish_video(video_file):\n",
    "    \"\"\"\n",
    "    Publish given video file to a specified Kafka topic. \n",
    "    Kafka Server is expected to be running on the localhost. Not partitioned.\n",
    "    \n",
    "    :param video_file: path to video file <string>\n",
    "    \"\"\"\n",
    "    # Start up producer\n",
    "    producer = KafkaProducer(bootstrap_servers=kafka_server)\n",
    "\n",
    "    # Open file\n",
    "    video = cv2.VideoCapture(video_file)\n",
    "    \n",
    "    print('publishing video...')\n",
    "\n",
    "    while(video.isOpened()):\n",
    "        success, frame = video.read()\n",
    "\n",
    "        # Ensure file was read successfully\n",
    "        if not success:\n",
    "            print(\"bad read!\")\n",
    "            break\n",
    "        \n",
    "        # Convert image to png\n",
    "        ret, buffer = cv2.imencode('.jpg', frame)\n",
    "\n",
    "        # Convert to bytes and send to kafka\n",
    "        producer.send(topic, buffer.tobytes())\n",
    "\n",
    "        time.sleep(0.2)\n",
    "    video.release()\n",
    "    print('publish complete')"
   ]
  },
  {
   "cell_type": "code",
   "execution_count": 22,
   "id": "f582d52b-5206-44f8-add6-c2b53767f7a8",
   "metadata": {},
   "outputs": [
    {
     "name": "stdout",
     "output_type": "stream",
     "text": [
      "publishing video...\n",
      "bad read!\n",
      "publish complete\n"
     ]
    }
   ],
   "source": [
    "video_path=\"IMG_6589.MOV\"\n",
    "publish_video(video_path)"
   ]
  },
  {
   "cell_type": "code",
   "execution_count": null,
   "id": "b4271acd-6ece-43df-8d26-d14d9b31e4af",
   "metadata": {},
   "outputs": [],
   "source": []
  }
 ],
 "metadata": {
  "kernelspec": {
   "display_name": "Python 3 (ipykernel)",
   "language": "python",
   "name": "python3"
  },
  "language_info": {
   "codemirror_mode": {
    "name": "ipython",
    "version": 3
   },
   "file_extension": ".py",
   "mimetype": "text/x-python",
   "name": "python",
   "nbconvert_exporter": "python",
   "pygments_lexer": "ipython3",
   "version": "3.11.6"
  }
 },
 "nbformat": 4,
 "nbformat_minor": 5
}
